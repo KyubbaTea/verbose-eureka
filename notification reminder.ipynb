{
 "cells": [
  {
   "cell_type": "code",
   "execution_count": 1,
   "id": "3dad0fc3",
   "metadata": {},
   "outputs": [
    {
     "name": "stdout",
     "output_type": "stream",
     "text": [
      "Collecting plyer\n",
      "  Downloading plyer-2.1.0-py2.py3-none-any.whl (142 kB)\n",
      "     ---------------------------------------- 0.0/142.3 kB ? eta -:--:--\n",
      "     -- ------------------------------------- 10.2/142.3 kB ? eta -:--:--\n",
      "     -- ------------------------------------- 10.2/142.3 kB ? eta -:--:--\n",
      "     -- ------------------------------------- 10.2/142.3 kB ? eta -:--:--\n",
      "     -- ------------------------------------- 10.2/142.3 kB ? eta -:--:--\n",
      "     -- ------------------------------------- 10.2/142.3 kB ? eta -:--:--\n",
      "     -- ------------------------------------- 10.2/142.3 kB ? eta -:--:--\n",
      "     -- ------------------------------------- 10.2/142.3 kB ? eta -:--:--\n",
      "     ---------- --------------------------- 41.0/142.3 kB 93.7 kB/s eta 0:00:02\n",
      "     ---------- --------------------------- 41.0/142.3 kB 93.7 kB/s eta 0:00:02\n",
      "     ---------- --------------------------- 41.0/142.3 kB 93.7 kB/s eta 0:00:02\n",
      "     ---------- --------------------------- 41.0/142.3 kB 93.7 kB/s eta 0:00:02\n",
      "     ---------- --------------------------- 41.0/142.3 kB 93.7 kB/s eta 0:00:02\n",
      "     ---------- --------------------------- 41.0/142.3 kB 93.7 kB/s eta 0:00:02\n",
      "     ---------- --------------------------- 41.0/142.3 kB 93.7 kB/s eta 0:00:02\n",
      "     ---------------------------- ------- 112.6/142.3 kB 156.1 kB/s eta 0:00:01\n",
      "     ---------------------------- ------- 112.6/142.3 kB 156.1 kB/s eta 0:00:01\n",
      "     ---------------------------- ------- 112.6/142.3 kB 156.1 kB/s eta 0:00:01\n",
      "     ---------------------------- ------- 112.6/142.3 kB 156.1 kB/s eta 0:00:01\n",
      "     ---------------------------- ------- 112.6/142.3 kB 156.1 kB/s eta 0:00:01\n",
      "     ---------------------------- ------- 112.6/142.3 kB 156.1 kB/s eta 0:00:01\n",
      "     ------------------------------- ---- 122.9/142.3 kB 118.2 kB/s eta 0:00:01\n",
      "     ------------------------------- ---- 122.9/142.3 kB 118.2 kB/s eta 0:00:01\n",
      "     ------------------------------- ---- 122.9/142.3 kB 118.2 kB/s eta 0:00:01\n",
      "     ------------------------------- ---- 122.9/142.3 kB 118.2 kB/s eta 0:00:01\n",
      "     ------------------------------- ---- 122.9/142.3 kB 118.2 kB/s eta 0:00:01\n",
      "     ------------------------------------ 142.3/142.3 kB 111.2 kB/s eta 0:00:00\n",
      "Installing collected packages: plyer\n",
      "Successfully installed plyer-2.1.0\n"
     ]
    }
   ],
   "source": [
    "!pip install plyer"
   ]
  },
  {
   "cell_type": "code",
   "execution_count": null,
   "id": "bdc33e7b",
   "metadata": {},
   "outputs": [],
   "source": [
    "from plyer import notification\n",
    "import time\n",
    "\n",
    "def switch_task_reminder(current_task, new_task, switch_time):\n",
    "    current_time = time.strftime(\"%H:%M\")\n",
    "    while current_time < switch_time:\n",
    "        time.sleep(60)  # Check every minute\n",
    "        current_time = time.strftime(\"%H:%M\")\n",
    "        \n",
    "    notification.notify(\n",
    "        title=\"Task-Reminder\",\n",
    "        message=\"Don't forget to switch from '{}' to '{}'!\".format(current_task, new_task),\n",
    "        app_icon=None,\n",
    "        timeout=10\n",
    "    )\n",
    "\n",
    "# Set the reminder for 14:00, switch tasks\n",
    "switch_task_reminder(\"Category Building\", \"Form Building\", \"14:00\")\n",
    "\n",
    "# Set a reminder for 14:30, order food\n",
    "switch_task_reminder(\"Form Building\", \"Order Food\", \"14:30\")\n"
   ]
  },
  {
   "cell_type": "code",
   "execution_count": null,
   "id": "cddf2f0a",
   "metadata": {},
   "outputs": [],
   "source": [
    "from plyer import notification\n",
    "import time\n",
    "\n",
    "def switch_task_reminder(current_task, new_task, switch_time):\n",
    "    current_time = time.strftime(\"%H:%M\")\n",
    "    while current_time < switch_time:\n",
    "        time.sleep(60)  # Check every minute\n",
    "        current_time = time.strftime(\"%H:%M\")\n",
    "        \n",
    "    notification.notify(\n",
    "        title=\"Task-Reminder\",\n",
    "        message=\"Don't forget to switch from '{}' to '{}'!\".format(current_task, new_task),\n",
    "        app_icon=None,\n",
    "        timeout=10\n",
    "    )\n",
    "\n",
    "# Set a reminder for 11:30 for testing\n",
    "switch_task_reminder(\"Category Building\", \"Form Building\", \"11:30\")\n"
   ]
  },
  {
   "cell_type": "code",
   "execution_count": null,
   "id": "673f65ed",
   "metadata": {},
   "outputs": [],
   "source": [
    "from plyer import notification\n",
    "import time\n",
    "\n",
    "def switch_task_reminder(current_task, new_task, switch_time):\n",
    "    current_time = time.strftime(\"%H:%M\")\n",
    "    \n",
    "    while True:\n",
    "        if current_time >= switch_time:\n",
    "            break\n",
    "        \n",
    "        time.sleep(60)  # Check every minute\n",
    "        current_time = time.strftime(\"%H:%M\")\n",
    "        \n",
    "    notification.notify(\n",
    "        title=\"Task-Reminder\",\n",
    "        message=\"Don't forget to switch from '{}' to '{}'!\".format(current_task, new_task),\n",
    "        app_icon=None,\n",
    "        timeout=10\n",
    "    )\n",
    "\n",
    "# Set the reminder for 11:30, switch tasks (for testing)\n",
    "switch_task_reminder(\"Category Building\", \"Form Building\", \"11:40\")\n"
   ]
  },
  {
   "cell_type": "code",
   "execution_count": null,
   "id": "37022031",
   "metadata": {},
   "outputs": [],
   "source": [
    " print(\"Before notification\")\n",
    "notification.notify(\n",
    "    title=\"Task-Reminder\",\n",
    "    message=\"Don't forget to switch from '{}' to '{}'!\".format(current_task, new_task),\n",
    "    app_icon=None,\n",
    "    timeout=10\n",
    ")\n",
    "print(\"After notification\")\n"
   ]
  },
  {
   "cell_type": "code",
   "execution_count": null,
   "id": "c5a2bc3c",
   "metadata": {},
   "outputs": [],
   "source": [
    "pip install win10toast"
   ]
  },
  {
   "cell_type": "code",
   "execution_count": null,
   "id": "3f971425",
   "metadata": {},
   "outputs": [],
   "source": [
    "from win10toast import ToastNotifier\n",
    "import time\n",
    "\n",
    "def switch_task_reminder(current_task, new_task, switch_time):\n",
    "    toaster = ToastNotifier()\n",
    "\n",
    "    current_time = time.strftime(\"%H:%M\")\n",
    "    while current_time < switch_time:\n",
    "        time.sleep(60)  # Check every minute\n",
    "        current_time = time.strftime(\"%H:%M\")\n",
    "\n",
    "    toaster.show_toast(\n",
    "        \"Task-Reminder\",\n",
    "        \"Don't forget to switch from '{}' to '{}'!\".format(current_task, new_task),\n",
    "        duration=10\n",
    "    )\n",
    "\n",
    "# Set the reminder for 11:40, switch tasks (for testing)\n",
    "switch_task_reminder(\"Category Building\", \"Form Building\", \"11:48\")\n"
   ]
  },
  {
   "cell_type": "code",
   "execution_count": null,
   "id": "86418d12",
   "metadata": {},
   "outputs": [],
   "source": [
    "from win10toast import ToastNotifier\n",
    "import time\n",
    "\n",
    "def switch_task_reminder(current_task, new_task, switch_time):\n",
    "    toaster = ToastNotifier()\n",
    "\n",
    "    current_time = time.strftime(\"%H:%M\")\n",
    "    while current_time < switch_time:\n",
    "        time.sleep(60)  # Check every minute\n",
    "        current_time = time.strftime(\"%H:%M\")\n",
    "\n",
    "    toaster.show_toast(\n",
    "        \"Task-Reminder\",\n",
    "        \"Don't forget to switch from '{}' to '{}'!\".format(current_task, new_task),\n",
    "        duration=10\n",
    "    )\n",
    "\n",
    "# Set the reminder for 11:40, switch tasks (for testing)\n",
    "switch_task_reminder(\"Category Building\", \"Form Building\", \"12:15\")"
   ]
  },
  {
   "cell_type": "code",
   "execution_count": null,
   "id": "f3a68440",
   "metadata": {},
   "outputs": [],
   "source": [
    "import time\n",
    "from plyer import notification\n",
    " \n",
    " \n",
    "if __name__==\"__main__\":\n",
    " \n",
    "        notification.notify(\n",
    "            title = \"HEADING HERE\",\n",
    "            message=\" DESCRIPTION HERE\" ,\n",
    "           \n",
    "            # displaying time\n",
    "            timeout=2\n",
    ")\n",
    "        # waiting time\n",
    "        time.sleep(7)"
   ]
  },
  {
   "cell_type": "code",
   "execution_count": null,
   "id": "b7c2e86c",
   "metadata": {},
   "outputs": [],
   "source": [
    "from plyer import notification\n",
    "import time\n",
    "\n",
    "def switch_task_reminder(current_task, new_task, switch_time):\n",
    "    current_time = time.strftime(\"%H:%M\")\n",
    "    while current_time < switch_time:\n",
    "        time.sleep(60)  # Check every minute\n",
    "        current_time = time.strftime(\"%H:%M\")\n",
    "        \n",
    "    notification.notify(\n",
    "        title=\"Task-Reminder\",\n",
    "        message=\"Don't forget to switch from '{}' to '{}'!\".format(current_task, new_task),\n",
    "        app_icon=None,\n",
    "        timeout=10\n",
    "    )\n",
    "\n",
    "# Set the reminder for 14:00, switch tasks\n",
    "switch_task_reminder(\"Category Building\", \"Form Building\", \"14:00\")\n",
    "\n",
    "# Set a reminder for 14:30, order food\n",
    "switch_task_reminder(\"Form Building\", \"Order Food\", \"14:30\")"
   ]
  },
  {
   "cell_type": "code",
   "execution_count": null,
   "id": "d381ea89",
   "metadata": {},
   "outputs": [],
   "source": [
    "from plyer import notification\n",
    "\n",
    "notification.notify(\n",
    "    title=\"Test Notification\",\n",
    "    message=\"This is a test notification!\",\n",
    "    app_icon=None,\n",
    "    timeout=10\n",
    ")\n"
   ]
  },
  {
   "cell_type": "code",
   "execution_count": null,
   "id": "38db5e85",
   "metadata": {},
   "outputs": [],
   "source": []
  },
  {
   "cell_type": "code",
   "execution_count": null,
   "id": "61898fa4",
   "metadata": {},
   "outputs": [],
   "source": []
  }
 ],
 "metadata": {
  "kernelspec": {
   "display_name": "Python 3 (ipykernel)",
   "language": "python",
   "name": "python3"
  },
  "language_info": {
   "codemirror_mode": {
    "name": "ipython",
    "version": 3
   },
   "file_extension": ".py",
   "mimetype": "text/x-python",
   "name": "python",
   "nbconvert_exporter": "python",
   "pygments_lexer": "ipython3",
   "version": "3.11.5"
  }
 },
 "nbformat": 4,
 "nbformat_minor": 5
}
